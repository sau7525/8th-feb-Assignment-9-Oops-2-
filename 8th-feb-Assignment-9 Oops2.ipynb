{
 "cells": [
  {
   "cell_type": "code",
   "execution_count": 3,
   "id": "4f96a68f-7a37-4abb-903a-29fdbc0d0eb7",
   "metadata": {},
   "outputs": [],
   "source": [
    "#ANS:1"
   ]
  },
  {
   "cell_type": "code",
   "execution_count": null,
   "id": "c15ff27f-fa7b-4dd4-80b0-7bcf868001ff",
   "metadata": {},
   "outputs": [],
   "source": [
    "#What is Abstraction in OOps? Explain with an example."
   ]
  },
  {
   "cell_type": "code",
   "execution_count": null,
   "id": "2f42af95-9dcf-42b7-aa86-90f88838b47b",
   "metadata": {},
   "outputs": [],
   "source": [
    "Abstraction in Object-Oriented Programming (OOP) refers to the concept of hiding the implementation details of an object and presenting only relevant information to the outside world.\n",
    "\n",
    "For example, consider a car object in OOP. The abstraction of a car object could be represented by its properties such as make, model, and year, and methods such as start, stop, and drive. The user of this car object does not need to know the internal workings of the car, such as how the engine starts or how the brakes work. The user only needs to know how to operate the car by using its relevant properties and methods.\n",
    "\n",
    "Abstraction helps in reducing the complexity of an object and makes it easier to use and understand, leading to more organized and efficient code."
   ]
  },
  {
   "cell_type": "code",
   "execution_count": 4,
   "id": "a43dbc41-1038-4a30-ade7-f2ca6185fd80",
   "metadata": {},
   "outputs": [],
   "source": [
    "#ANS:2"
   ]
  },
  {
   "cell_type": "code",
   "execution_count": 5,
   "id": "eedef2ab-d20d-4d46-b571-4e653998686c",
   "metadata": {},
   "outputs": [],
   "source": [
    "#Differentiate between Abstraction and Encapsulation. Explain with an example."
   ]
  },
  {
   "cell_type": "code",
   "execution_count": null,
   "id": "ebe51c0e-2dfe-4bf1-87bd-8530572ff861",
   "metadata": {},
   "outputs": [],
   "source": [
    "Abstraction and Encapsulation are related concepts in Object-Oriented Programming (OOP), but they are different in their nature and purpose.\n",
    "\n",
    "Abstraction refers to the process of hiding the implementation details of an object and presenting only the relevant information to the outside world. It helps in reducing the complexity of an object and making it easier to understand and use.\n",
    "\n",
    "Encapsulation refers to the process of binding data and the methods that operate on that data within a single unit or object. It provides a protective shield to the data of an object and restricts the direct access to the data from outside the object. This helps in ensuring the data integrity and security of an object.\n",
    "\n",
    "For example, consider a bank account object in OOP. The abstraction of the bank account object could be represented by its properties such as account number and balance, and methods such as deposit and withdraw. The user of this bank account object does not need to know the internal workings of how the bank manages the account, such as how the deposit or withdraw methods update the balance.\n",
    "\n",
    "The encapsulation of the bank account object could be achieved by declaring the properties such as account number and balance as private, and providing the methods such as deposit and withdraw as public. This encapsulation ensures that the user can only access the account information through the provided methods and cannot directly access or modify the account number or balance properties.\n",
    "\n",
    "In summary, Abstraction focuses on hiding the implementation details, while Encapsulation focuses on binding the data and methods within a single unit and restricting the direct access to the data."
   ]
  },
  {
   "cell_type": "code",
   "execution_count": 6,
   "id": "56e2dabf-7d45-4baf-8e95-9eca223498fc",
   "metadata": {},
   "outputs": [],
   "source": [
    "#ANS:3"
   ]
  },
  {
   "cell_type": "code",
   "execution_count": null,
   "id": "01881334-1ec9-4e0b-a6a0-418e92a5fd89",
   "metadata": {},
   "outputs": [],
   "source": [
    "#What is abc module in python? Why is it used?"
   ]
  },
  {
   "cell_type": "code",
   "execution_count": null,
   "id": "838c92f3-8b16-43f2-9345-ad847bf8b4c2",
   "metadata": {},
   "outputs": [],
   "source": [
    "The abc module in Python is the Abstract Base Class module. It provides a way to define abstract base classes (ABCs) in Python, which are classes that cannot be instantiated and are meant to be subclassed. ABCs provide a way to specify an interface that must be implemented by its concrete subclasses.\n",
    "\n",
    "The abc module is used for creating abstract base classes in Python, which can be useful in situations where you want to define a common interface for a set of related classes. By defining an ABC, you can enforce that all concrete implementations of the class adhere to a certain interface. This helps in ensuring that the concrete implementations have certain properties, methods, or behaviors and makes it easier to use them interchangeably.\n",
    "\n",
    "For example, you could define an ABC for a data structure that requires the implementation of certain methods, such as push() and pop(), and then have different concrete implementations of the data structure, such as a Stack or Queue, inherit from the ABC and implement the required methods. This helps in ensuring that all implementations of the data structure have the necessary methods and makes it easier to write code that can work with different implementations interchangeably."
   ]
  },
  {
   "cell_type": "code",
   "execution_count": 7,
   "id": "32b44d15-204d-4e7a-845a-baaeb1a8cf34",
   "metadata": {},
   "outputs": [],
   "source": [
    "#ANS:4"
   ]
  },
  {
   "cell_type": "code",
   "execution_count": null,
   "id": "8540b6d0-a746-46d7-a2ee-f625485414cc",
   "metadata": {},
   "outputs": [],
   "source": [
    "#How can we achieve data abstraction?"
   ]
  },
  {
   "cell_type": "code",
   "execution_count": null,
   "id": "d6eda352-78a7-4313-8f8c-d042091d09a4",
   "metadata": {},
   "outputs": [],
   "source": []
  }
 ],
 "metadata": {
  "kernelspec": {
   "display_name": "Python 3 (ipykernel)",
   "language": "python",
   "name": "python3"
  },
  "language_info": {
   "codemirror_mode": {
    "name": "ipython",
    "version": 3
   },
   "file_extension": ".py",
   "mimetype": "text/x-python",
   "name": "python",
   "nbconvert_exporter": "python",
   "pygments_lexer": "ipython3",
   "version": "3.10.8"
  }
 },
 "nbformat": 4,
 "nbformat_minor": 5
}
